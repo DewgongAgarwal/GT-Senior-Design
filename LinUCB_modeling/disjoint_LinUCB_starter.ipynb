{
 "cells": [
  {
   "cell_type": "code",
   "execution_count": 1,
   "id": "a931f962",
   "metadata": {},
   "outputs": [],
   "source": [
    "# import necessary packages\n",
    "import numpy as np\n",
    "%matplotlib inline\n",
    "import matplotlib.pyplot as plt\n",
    "plt.style.use('seaborn-whitegrid')\n",
    "\n",
    "import json"
   ]
  },
  {
   "cell_type": "code",
   "execution_count": null,
   "id": "a68caae8",
   "metadata": {},
   "outputs": [],
   "source": [
    "# reading JSON from file\n",
    "f = open(\"input.json\")\n",
    "data = json.load(f)\n",
    "f.close()\n",
    "\n",
    "# reading JSON from a JSON string\n",
    "js = \"<JSON STRING OBJECT PLACEHOLDER>\"\n",
    "data = json.loads(js)"
   ]
  },
  {
   "cell_type": "code",
   "execution_count": null,
   "id": "0f3b587d",
   "metadata": {},
   "outputs": [],
   "source": [
    "# Global constants.\n",
    "NUM_ARMS = 8       # The number of arms\n",
    "# Num_Clusters = 4   # The number of clusters\n",
    "CONTEXT_DIM = 25   # The dimension of context vectors\n",
    "T = 20000          # The number of rounds"
   ]
  },
  {
   "cell_type": "code",
   "execution_count": null,
   "id": "94f10b23",
   "metadata": {},
   "outputs": [],
   "source": [
    "# context is a randomly selected CONTEXT_DIM dimensional np array from the input data"
   ]
  },
  {
   "cell_type": "code",
   "execution_count": null,
   "id": "e5e7aa81",
   "metadata": {},
   "outputs": [],
   "source": [
    "def train_disjoint_LinUCB(alpha, input_A=None, input_b=None):\n",
    "    '''\n",
    "    Input:\n",
    "        alpha: exloration parameter\n",
    "        input_A: input A from previous training sessions\n",
    "        input_b: input b from previous training sessions\n",
    "    \n",
    "    Output:\n",
    "        A: return this parameter so it can be saved and used in later runs if needed\n",
    "        b: return this parameter so it can be saved and used in later runs if needed\n",
    "        average_reward: numpy array of shape=(T,), the average reward of the algorithm after each round\n",
    "        num_pulls: dict, the number of pulls of each arm after T rounds\n",
    "        \n",
    "    '''\n",
    "    # Initialization\n",
    "    average_reward = np.zeros(T)\n",
    "    num_pulls = {arm: 0.0 for arm in range(1, NUM_ARMS+1)}\n",
    "    \n",
    "    A = {arm: np.identity(CONTEXT_DIM) for arm in range(1, NUM_ARMS+1)}\n",
    "    if(input_A is not None):\n",
    "        A = input_A\n",
    "        \n",
    "    b = {arm: np.zeros(CONTEXT_DIM) for arm in range(1, NUM_ARMS+1)}\n",
    "    if(input_b is not None):\n",
    "        b = input_b\n",
    "    \n",
    "    # Interact with the contextual bandit simulator\n",
    "    for t in range(1, T+1):\n",
    "        # A context is revealed to the algorithm\n",
    "        # TODO: REPLACE THIS LINE WITH HOW WE ARE ACCESSING INPUT ENTRIES\n",
    "        context = env.generate_context()\n",
    "        \n",
    "        # Choose arm = argmax UCB[i], with ties broken uniformly random\n",
    "        UCB = []\n",
    "        for arm in range(1, NUM_ARMS+1):\n",
    "            # theta_hat = A[arm]^{-1} b[arm]\n",
    "            theta_hat = np.linalg.solve(A[arm], b[arm])\n",
    "            # ucb = theta_hat^T context + alpha * sqrt(context^T A[arm]^{-1} context)\n",
    "            ucb = np.dot(theta_hat, context) + alpha * np.sqrt(np.dot(np.dot(context, np.linalg.inv(A[arm])), context))\n",
    "            UCB.append(ucb)\n",
    "            \n",
    "        max_ucb = np.max(UCB)\n",
    "        candidates = [arm for arm in range(1, NUM_ARMS+1) if UCB[arm-1] == max_ucb]\n",
    "        arm = np.random.choice(candidates)\n",
    "        \n",
    "        # A reward is revealed to the algorithm\n",
    "        # TODO: REPLACE THIS LINE WITH HOW WE ARE GENERATING REWARDS\n",
    "        r = env.generate_reward(arm, context)\n",
    "        \n",
    "        # TO DO:\n",
    "        # Update A and b based on the context and the reward\n",
    "        # x x^T results in an d by d matrix so we need to reshape context right????\n",
    "        A[arm] = A[arm] + ( context.reshape((CONTEXT_DIM,1)) @ context.reshape((1,CONTEXT_DIM)) )\n",
    "        b[arm] = b[arm] + (r * context)\n",
    "        \n",
    "        # TO DO:\n",
    "        # Update average_reward and num_pulls based on the arm pulled and the reward\n",
    "        average_reward[t-1] = r if (t==1) else (average_reward[t-1-1]*(t-1) + r) / t\n",
    "        num_pulls[arm] = num_pulls[arm] + 1\n",
    "    \n",
    "    print(\"------------------------------------------------------------------------------------------------------------------------\")\n",
    "    \n",
    "    return A, b, average_reward, num_pulls"
   ]
  },
  {
   "cell_type": "code",
   "execution_count": null,
   "id": "46225353",
   "metadata": {},
   "outputs": [],
   "source": [
    "def get_rec(context, input_A, input_b):\n",
    "    # Choose arm = argmax UCB[i], with ties broken uniformly random\n",
    "    UCB = []\n",
    "    for arm in range(1, NUM_ARMS+1):\n",
    "        # theta_hat = A[arm]^{-1} b[arm]\n",
    "        theta_hat = np.linalg.solve(input_A[arm], input_b[arm])\n",
    "        # ucb = theta_hat^T context + alpha * sqrt(context^T A[arm]^{-1} context)\n",
    "        ucb = np.dot(theta_hat, context) + alpha * np.sqrt(np.dot(np.dot(context, np.linalg.inv(input_A[arm])), context))\n",
    "        UCB.append(ucb)\n",
    "            \n",
    "    max_ucb = np.max(UCB)\n",
    "    candidates = [arm for arm in range(1, NUM_ARMS+1) if UCB[arm-1] == max_ucb]\n",
    "    arm = np.random.choice(candidates)\n",
    "    \n",
    "    return arm"
   ]
  }
 ],
 "metadata": {
  "kernelspec": {
   "display_name": "Python 3",
   "language": "python",
   "name": "python3"
  },
  "language_info": {
   "codemirror_mode": {
    "name": "ipython",
    "version": 3
   },
   "file_extension": ".py",
   "mimetype": "text/x-python",
   "name": "python",
   "nbconvert_exporter": "python",
   "pygments_lexer": "ipython3",
   "version": "3.9.0"
  }
 },
 "nbformat": 4,
 "nbformat_minor": 5
}
